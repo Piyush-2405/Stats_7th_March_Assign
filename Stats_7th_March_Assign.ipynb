{
 "cells": [
  {
   "cell_type": "markdown",
   "id": "b4866792-d955-41d8-8d10-a73921a9c70f",
   "metadata": {},
   "source": [
    "Q1. What are the three measures of central tendency?"
   ]
  },
  {
   "cell_type": "markdown",
   "id": "50922a3f-570a-49ad-95d9-24fabfd56999",
   "metadata": {},
   "source": [
    "The three measures of central tendency are:\n",
    "\n",
    "1.Mean: The mean, also known as the average, is calculated by summing up all the values in a dataset and then dividing by the total number of data points. It represents the \"average\" value and is sensitive to outliers.\n",
    "\n",
    "2.Median: The median is the middle value of a dataset when the values are arranged in ascending or descending order. If the dataset has an odd number of values, the median is the middle one; if it has an even number of values, the median is the average of the two middle values. The median is less sensitive to outliers compared to the mean.\n",
    "\n",
    "3.Mode: The mode is the value that occurs most frequently in a dataset. A dataset can have one mode (unimodal) if there's one value that appears most often, or it can have more than one mode (bimodal, trimodal, etc.) if there are multiple values with the same highest frequency."
   ]
  },
  {
   "cell_type": "markdown",
   "id": "d7fff2c1-2220-446c-8ffe-202453f3ece3",
   "metadata": {},
   "source": [
    "Q2. What is the difference between the mean, median, and mode? How are they used to measure the\n",
    "central tendency of a dataset?"
   ]
  },
  {
   "cell_type": "markdown",
   "id": "2ee549f7-7098-4750-854b-a8ea13b0cf98",
   "metadata": {},
   "source": [
    "\n",
    "The mean, median, and mode are three different measures of central tendency, and they represent different aspects of the typical or central value in a dataset.\n",
    "\n",
    "1.Mean:\n",
    "The mean is the average value of a dataset and is calculated by adding up all the values and then dividing by the total number of data points.\n",
    "It is the most commonly used measure of central tendency.\n",
    "The mean is sensitive to outliers because it takes into account the magnitude of each value.\n",
    "It is used when the data is normally distributed or when a balanced representation of the data points is required.\n",
    "\n",
    "2.Median:\n",
    "The median is the middle value of a dataset when the values are arranged in ascending or descending order.\n",
    "If the dataset has an odd number of values, the median is the middle one; if it has an even number of values, the median is the average of the two middle values.\n",
    "The median is less sensitive to outliers compared to the mean because it is not affected by extreme values.\n",
    "It is used when the data has extreme values or is skewed, as it gives a more robust representation of the central value.\n",
    "\n",
    "3.Mode:\n",
    "The mode is the value that occurs most frequently in a dataset.\n",
    "A dataset can have one mode (unimodal) if there's one value that appears most often, or it can have more than one mode (bimodal, trimodal, etc.) if there are multiple values with the same highest frequency.\n",
    "The mode is not affected by outliers, and it is particularly useful for categorical or discrete data.\n",
    "It is used when identifying the most common or frequently occurring value in a dataset.\n",
    "In summary, mean, median, and mode are used to understand the central tendency of a dataset:\n",
    "\n",
    "Mean gives the average value and is useful when data is normally distributed and outliers are not a concern.\n",
    "Median provides the middle value and is used when dealing with skewed data or data with outliers.\n",
    "Mode indicates the most frequently occurring value and is helpful for identifying dominant or commonly recurring values, especially in categorical data."
   ]
  },
  {
   "cell_type": "markdown",
   "id": "9ca14fd7-bf28-4d11-82cd-f5d2e1fa1f3e",
   "metadata": {},
   "source": [
    "Q3. Measure the three measures of central tendency for the given height data:\n",
    "[178,177,176,177,178.2,178,175,179,180,175,178.9,176.2,177,172.5,178,176.5]"
   ]
  },
  {
   "cell_type": "markdown",
   "id": "9dbbedca-246d-442c-8cc7-be236b83c090",
   "metadata": {},
   "source": [
    "To find the three measures of central tendency (mean, median, and mode) for the given height data, let's calculate them step by step:\n",
    "\n",
    "Step 1: Sort the data in ascending order:\n",
    "[172.5, 175, 175, 176, 176, 176.2, 176.5, 177, 177, 177, 178, 178, 178, 178, 178.2, 178.9, 179, 180]\n",
    "\n",
    "Step 2: Calculate the Mean:\n",
    "Mean = (Sum of all data points) / (Total number of data points)\n",
    "Mean = (172.5 + 175 + 175 + 176 + 176 + 176.2 + 176.5 + 177 + 177 + 177 + 178 + 178 + 178 + 178 + 178.2 + 178.9 + 179 + 180) / 17\n",
    "Mean ≈ 177.382\n",
    "\n",
    "Step 3: Calculate the Median:\n",
    "Since there are 17 data points, the median will be the value at the 9th position (middle position) when the data is sorted:\n",
    "Median = 177\n",
    "\n",
    "Step 4: Calculate the Mode:\n",
    "The mode is the value(s) that occur(s) most frequently in the dataset. In this case, the value 178 occurs the most number of times (four times).\n",
    "Mode = 178\n",
    "\n",
    "So, the three measures of central tendency for the given height data are:\n",
    "Mean ≈ 177.382\n",
    "Median = 177\n",
    "Mode = 178"
   ]
  },
  {
   "cell_type": "markdown",
   "id": "bf494cae-d6db-4ffa-a3ff-ef0016a71c31",
   "metadata": {},
   "source": [
    "Q4. Find the standard deviation for the given data:\n",
    "[178,177,176,177,178.2,178,175,179,180,175,178.9,176.2,177,172.5,178,176.5]"
   ]
  },
  {
   "cell_type": "markdown",
   "id": "2ce1ef0e-eee3-4797-a7f5-a134cb696265",
   "metadata": {},
   "source": [
    "To find the standard deviation for the given data, follow these steps:\n",
    "\n",
    "Step 1: Find the mean (already calculated in the previous question):\n",
    "Mean ≈ 177.382\n",
    "\n",
    "Step 2: Find the squared differences from the mean for each data point:\n",
    "For each data point, subtract the mean from the data point and then square the result.\n",
    "\n",
    "Squared differences for each data point:\n",
    "(178 - 177.382)^2 ≈ 0.374244\n",
    "(177 - 177.382)^2 ≈ 0.015044\n",
    "(176 - 177.382)^2 ≈ 1.930724\n",
    "(177 - 177.382)^2 ≈ 0.015044\n",
    "(178.2 - 177.382)^2 ≈ 0.067489\n",
    "(178 - 177.382)^2 ≈ 0.374244\n",
    "(175 - 177.382)^2 ≈ 5.697124\n",
    "(179 - 177.382)^2 ≈ 2.598884\n",
    "(180 - 177.382)^2 ≈ 6.826324\n",
    "(175 - 177.382)^2 ≈ 5.697124\n",
    "(178.9 - 177.382)^2 ≈ 2.287024\n",
    "(176.2 - 177.382)^2 ≈ 1.399104\n",
    "(177 - 177.382)^2 ≈ 0.015044\n",
    "(172.5 - 177.382)^2 ≈ 2.360204\n",
    "(178 - 177.382)^2 ≈ 0.374244\n",
    "(176.5 - 177.382)^2 ≈ 0.767924\n",
    "\n",
    "Step 3: Find the mean of the squared differences:\n",
    "Sum up all the squared differences from Step 2 and divide by the total number of data points.\n",
    "\n",
    "Sum of squared differences ≈ 31.338392\n",
    "Number of data points = 17\n",
    "\n",
    "Mean of squared differences ≈ 31.338392 / 17 ≈ 1.843436\n",
    "\n",
    "Step 4: Find the square root of the mean of squared differences:\n",
    "Standard Deviation = √(Mean of squared differences)\n",
    "Standard Deviation ≈ √1.843436 ≈ 1.359295\n",
    "\n",
    "So, the standard deviation for the given data is approximately 1.359."
   ]
  },
  {
   "cell_type": "markdown",
   "id": "4ab2ac41-b82d-4085-ac35-879b36fded9d",
   "metadata": {},
   "source": [
    "Q5. How are measures of dispersion such as range, variance, and standard deviation used to describe\n",
    "the spread of a dataset? Provide an example."
   ]
  },
  {
   "cell_type": "markdown",
   "id": "c18387b1-0825-4fad-81ff-f8be94b820d9",
   "metadata": {},
   "source": [
    "\n",
    "Measures of dispersion, such as range, variance, and standard deviation, are used to describe the spread or variability of a dataset. They provide information about how the data points are distributed around the central tendency (mean, median, or mode) and offer insights into the degree of scatter or deviation from the average value. A higher value of dispersion indicates a greater spread, while a lower value indicates less variability.\n",
    "\n",
    "Let's use an example of test scores to illustrate how these measures of dispersion are used:\n",
    "\n",
    "Example:\n",
    "Consider the following test scores of a group of students in a math exam:\n",
    "\n",
    "[85, 90, 88, 92, 78, 95, 86, 84, 89, 93]\n",
    "\n",
    "1.Range:\n",
    "The range is the simplest measure of dispersion and is calculated by finding the difference between the maximum and minimum values in the dataset.\n",
    "Range = Maximum value - Minimum value\n",
    "Range = 95 - 78 = 17\n",
    "\n",
    "The range tells us that the spread of test scores is 17, ranging from the lowest score of 78 to the highest score of 95.\n",
    "\n",
    "2.Variance:\n",
    "Variance measures the average of the squared differences between each data point and the mean. It provides a more comprehensive measure of dispersion by considering the distance of each data point from the mean.\n",
    "Step 1: Calculate the mean:\n",
    "Mean = (85 + 90 + 88 + 92 + 78 + 95 + 86 + 84 + 89 + 93) / 10 = 88\n",
    "\n",
    "Step 2: Calculate the squared differences from the mean for each data point:\n",
    "(85 - 88)^2 = 9\n",
    "(90 - 88)^2 = 4\n",
    "(88 - 88)^2 = 0\n",
    "(92 - 88)^2 = 16\n",
    "(78 - 88)^2 = 100\n",
    "(95 - 88)^2 = 49\n",
    "(86 - 88)^2 = 4\n",
    "(84 - 88)^2 = 16\n",
    "(89 - 88)^2 = 1\n",
    "(93 - 88)^2 = 25\n",
    "\n",
    "Step 3: Calculate the variance:\n",
    "Variance = (9 + 4 + 0 + 16 + 100 + 49 + 4 + 16 + 1 + 25) / 10 ≈ 22.4\n",
    "\n",
    "3.Standard Deviation:\n",
    "The standard deviation is the square root of the variance and is used to quantify the dispersion in the same unit as the data points.\n",
    "Standard Deviation = √Variance ≈ √22.4 ≈ 4.73\n",
    "\n",
    "The standard deviation of approximately 4.73 indicates that the test scores are spread around the mean by about 4.73 points on average. It provides a more precise and standardized measure of the spread compared to the range."
   ]
  },
  {
   "cell_type": "markdown",
   "id": "a2a7c484-f2c4-4157-8797-47e123ca53f7",
   "metadata": {},
   "source": [
    "Q6. What is a Venn diagram?"
   ]
  },
  {
   "cell_type": "markdown",
   "id": "5828c47f-3990-44ef-a2d4-188c499fa233",
   "metadata": {},
   "source": [
    "A Venn diagram is a visual representation used to show the relationships between different sets or groups of items. It consists of overlapping circles or ellipses, with each circle representing a specific set, and the overlapping areas indicating the elements that are common to two or more sets.\n",
    "\n",
    "The primary purpose of a Venn diagram is to illustrate the similarities and differences between sets, helping to visually depict the relationships and overlaps among them. The size of each circle represents the relative size or cardinality of the corresponding set, and the overlapping regions show the elements shared by the sets."
   ]
  },
  {
   "cell_type": "markdown",
   "id": "426025d3-85b1-46b7-b585-eeef655d0d00",
   "metadata": {},
   "source": [
    "Q7. For the two given sets A = (2,3,4,5,6,7) & B = (0,2,6,8,10). Find:\n",
    "(i) A intersection B\n",
    "(ii) A ⋃ B"
   ]
  },
  {
   "cell_type": "markdown",
   "id": "b81ef28b-ca74-4f93-bb36-f990d8a27e0d",
   "metadata": {},
   "source": [
    "(i) (2,6)\n",
    "(ii) (0,2,3,4,5,6,7,8,10)"
   ]
  },
  {
   "cell_type": "markdown",
   "id": "8d2b7e86-d687-412e-bda9-28a8af1fcc34",
   "metadata": {},
   "source": [
    "Q8. What do you understand about skewness in data?"
   ]
  },
  {
   "cell_type": "markdown",
   "id": "601b646f-cdc7-417e-9f92-137ed8f3d529",
   "metadata": {},
   "source": [
    "Skewness in data refers to the asymmetry or lack of symmetry in the distribution of data points. In a perfectly symmetrical distribution, the data points are evenly distributed around the central value (mean, median, or mode), resulting in a balanced bell-shaped curve. However, in skewed data, the distribution is lopsided, with more data points leaning towards one tail of the distribution than the other.\n",
    "\n",
    "There are two main types of skewness:\n",
    "\n",
    "1.Positive (Right) Skewness:\n",
    "In a positively skewed distribution, the tail of the distribution extends to the right, while most of the data is concentrated on the left side.\n",
    "The mean is typically greater than the median, and the mode may be the smallest value or a value closer to the left side of the distribution.\n",
    "Positive skewness often occurs when there are a few extreme values or outliers on the higher end of the data.\n",
    "\n",
    "2.Negative (Left) Skewness:\n",
    "In a negatively skewed distribution, the tail of the distribution extends to the left, while most of the data is concentrated on the right side.\n",
    "The mean is typically smaller than the median, and the mode may be the largest value or a value closer to the right side of the distribution.\n",
    "Negative skewness can happen when there are a few extreme values or outliers on the lower end of the data."
   ]
  },
  {
   "cell_type": "markdown",
   "id": "949476ee-aa0e-4fd2-b5f5-63746dfc722a",
   "metadata": {},
   "source": [
    "Q9. If a data is right skewed then what will be the position of median with respect to mean?"
   ]
  },
  {
   "cell_type": "markdown",
   "id": "d4f2c1ec-b9bc-4083-8293-a7e5ccec2030",
   "metadata": {},
   "source": [
    "If a dataset is right-skewed, the position of the median will be to the left of the mean. In other words, the median will be smaller than the mean.\n",
    "\n",
    "In a right-skewed distribution, the tail of the distribution extends to the right, and most of the data is concentrated on the left side. The presence of extreme values or outliers on the right side pulls the mean towards higher values, causing it to be larger than the median.\n",
    "\n",
    "To better understand this relationship, consider the following example:\n",
    "\n",
    "Dataset: [10, 15, 20, 25, 30, 35, 100]\n",
    "\n",
    "In this dataset, we can see that most of the data is concentrated on the left side (10 to 35), and there is one extreme value (100) on the right side. This leads to a right-skewed distribution.\n",
    "\n",
    "Mean = (10 + 15 + 20 + 25 + 30 + 35 + 100) / 7 ≈ 30\n",
    "\n",
    "Median = 25"
   ]
  },
  {
   "cell_type": "markdown",
   "id": "d6d58708-bfb1-4f00-a0be-dca3deb85140",
   "metadata": {},
   "source": [
    "Q10. Explain the difference between covariance and correlation. How are these measures used in\n",
    "statistical analysis?"
   ]
  },
  {
   "cell_type": "markdown",
   "id": "39e34d18-681c-40d3-870f-c773f4f7b396",
   "metadata": {},
   "source": [
    "\n",
    "Covariance and correlation are two statistical measures used to quantify the relationship between two variables. While they both assess the degree of association between variables, they have distinct characteristics and are used for different purposes.\n",
    "\n",
    "1.Covariance:\n",
    "Covariance measures the extent to which two variables change together. It indicates the direction of the relationship (positive or negative) and whether the variables tend to increase or decrease together. Covariance can take both positive and negative values:\n",
    "Positive covariance (cov(X, Y) > 0): Indicates that as one variable increases, the other tends to increase as well. When one variable decreases, the other also tends to decrease.\n",
    "\n",
    "Negative covariance (cov(X, Y) < 0): Suggests that as one variable increases, the other tends to decrease, and vice versa.\n",
    "\n",
    "Zero covariance (cov(X, Y) = 0): Suggests that there is no linear relationship between the variables. It does not necessarily mean that there is no relationship at all, but only that the relationship is not linear.\n",
    "\n",
    "However, covariance alone does not provide a standardized measure of the strength of the relationship, making it difficult to compare the associations between different pairs of variables.\n",
    "\n",
    "2.Correlation:\n",
    "Correlation is a standardized measure of the relationship between two variables. It quantifies the strength and direction of the linear association between variables, and its value always lies between -1 and 1:\n",
    "Positive correlation (corr(X, Y) > 0): Indicates a direct relationship, where as one variable increases, the other tends to increase as well.\n",
    "\n",
    "Negative correlation (corr(X, Y) < 0): Represents an inverse relationship, where as one variable increases, the other tends to decrease.\n",
    "\n",
    "Zero correlation (corr(X, Y) ≈ 0): Suggests that there is no linear relationship between the variables.\n",
    "\n",
    "Correlation is preferred over covariance in many situations because it provides a standardized scale, making it easier to compare and interpret the strength of the relationship across different pairs of variables. The correlation coefficient ranges from -1 to 1, where -1 indicates a perfect negative correlation, 1 indicates a perfect positive correlation, and 0 represents no linear correlation.\n",
    "\n",
    "How are these measures used in statistical analysis?\n",
    "\n",
    "Covariance and correlation are used to examine the relationship between two variables and understand whether they move together or in opposite directions.\n",
    "\n",
    "In finance, covariance and correlation are used to analyze the relationship between the returns of different assets in a portfolio. Diversification is based on understanding how assets move concerning one another.\n",
    "\n",
    "In economics and social sciences, these measures are used to study the association between different economic indicators or social factors.\n",
    "\n",
    "In data analysis and machine learning, correlation is used for feature selection and to assess multicollinearity among predictor variables.\n",
    "\n",
    "Covariance and correlation matrices are essential in multivariate analysis, factor analysis, and principal component analysis."
   ]
  },
  {
   "cell_type": "markdown",
   "id": "7a4b4ec1-2edc-40b0-aeae-e467d38342c8",
   "metadata": {},
   "source": [
    "Q11. What is the formula for calculating the sample mean? Provide an example calculation for a\n",
    "dataset."
   ]
  },
  {
   "cell_type": "markdown",
   "id": "dfe62dc4-586b-410e-b893-cf36011b25c0",
   "metadata": {},
   "source": [
    "The formula for calculating the sample mean (also known as the sample average) is as follows:\n",
    "\n",
    "Sample Mean = (Sum of all data points) / (Total number of data points)\n",
    "\n",
    "To calculate the sample mean, follow these steps:\n",
    "\n",
    "Step 1: Add up all the data points in the dataset.\n",
    "Step 2: Count the total number of data points in the dataset.\n",
    "Step 3: Divide the sum from Step 1 by the total number of data points from Step 2 to get the sample mean.\n",
    "\n",
    "Example Calculation:\n",
    "Let's calculate the sample mean for the following dataset:\n",
    "\n",
    "[10, 15, 20, 25, 30]\n",
    "\n",
    "Step 1: Sum of all data points = 10 + 15 + 20 + 25 + 30 = 100\n",
    "Step 2: Total number of data points = 5\n",
    "Step 3: Sample Mean = 100 / 5 = 20\n",
    "\n",
    "So, the sample mean for the dataset [10, 15, 20, 25, 30] is 20."
   ]
  },
  {
   "cell_type": "markdown",
   "id": "9ee4b64b-b406-43a7-8a17-e7225fa8e014",
   "metadata": {},
   "source": [
    "Q12. For a normal distribution data what is the relationship between its measure of central tendency?"
   ]
  },
  {
   "cell_type": "markdown",
   "id": "31bb162a-9eb6-4887-b975-b513e2d38894",
   "metadata": {},
   "source": [
    "For a normal distribution, the relationship between its measures of central tendency (mean, median, and mode) is as follows:\n",
    "\n",
    "1.Mean:\n",
    "In a normal distribution, the mean, median, and mode are all equal. This is a unique property of a perfectly symmetrical normal distribution. The mean represents the arithmetic average of all the data points, and in a symmetric distribution, it is located at the center of the distribution where the data points are equally balanced on both sides.\n",
    "\n",
    "2.Median:\n",
    "The median in a normal distribution is also equal to the mean. Since a normal distribution is symmetric, the middle value of the data is also at the center of the distribution, and this value is the same as the mean. In other words, 50% of the data lies to the left of the median, and 50% lies to the right, making it coincide with the mean.\n",
    "\n",
    "3.Mode:\n",
    "In a normal distribution, the mode is also equal to the mean and the median. Since the normal distribution is bell-shaped and symmetric, the highest point of the curve (the mode) corresponds to the center of the distribution, where the mean and median are located.\n",
    "\n",
    "In summary, for a perfectly normal distribution:\n",
    "\n",
    "Mean = Median = Mode"
   ]
  },
  {
   "cell_type": "markdown",
   "id": "0d5d8e5b-cd10-4444-b45e-62bc1b77a7ac",
   "metadata": {},
   "source": [
    "Q13. How is covariance different from correlation?"
   ]
  },
  {
   "cell_type": "markdown",
   "id": "9fc6d940-88db-4ff9-9ed2-a3c4e6af39ad",
   "metadata": {},
   "source": [
    "Covariance and correlation are both measures used to assess the relationship between two variables, but they differ in several key aspects:\n",
    "\n",
    "1.Definition:\n",
    "Covariance: Covariance measures the extent to which two variables change together. It indicates the direction of the relationship (positive or negative) and whether the variables tend to increase or decrease together. Covariance can take both positive and negative values.\n",
    "Correlation: Correlation is a standardized measure of the relationship between two variables. It quantifies the strength and direction of the linear association between variables and is always between -1 and 1. Correlation measures how closely the data points of the two variables align along a straight line, regardless of the scale of the variables.\n",
    "\n",
    "2.Scale:\n",
    "Covariance: The covariance value is not scaled and depends on the scale of the data. Larger values of covariance do not necessarily indicate stronger relationships, as they are influenced by the magnitudes of the variables themselves.\n",
    "Correlation: The correlation coefficient is a standardized measure and always ranges from -1 to 1. A correlation of +1 indicates a perfect positive linear relationship, -1 indicates a perfect negative linear relationship, and 0 indicates no linear relationship.\n",
    "\n",
    "3.Interpretation:\n",
    "Covariance: Covariance is challenging to interpret alone, especially when comparing different pairs of variables with different scales. It provides information about the direction of the relationship but does not tell us the strength of the association.\n",
    "Correlation: Correlation is easier to interpret and compare since it is standardized. The correlation coefficient allows us to understand the strength and direction of the linear relationship between variables. It helps in comparing the relationships of different pairs of variables on a consistent scale.\n",
    "\n",
    "4.Range:\n",
    "Covariance: Covariance can take any real value, positive or negative, without any upper or lower limit.\n",
    "Correlation: Correlation is bounded between -1 and 1, making it easier to interpret and compare relationships."
   ]
  },
  {
   "cell_type": "markdown",
   "id": "7f37f190-2fc3-4427-93e5-3ac32c992ef0",
   "metadata": {},
   "source": [
    "Q14. How do outliers affect measures of central tendency and dispersion? Provide an example."
   ]
  },
  {
   "cell_type": "markdown",
   "id": "4994024e-9040-4cd7-a05e-4444c0a80fc2",
   "metadata": {},
   "source": [
    "Outliers can significantly impact both measures of central tendency (mean, median, and mode) and measures of dispersion (range, variance, and standard deviation). An outlier is an extreme value that lies far away from the majority of the data points in a dataset. These extreme values can distort the overall characteristics of the data distribution, affecting both the central tendency and spread of the data.\n",
    "\n",
    "Let's look at how outliers can affect measures of central tendency and dispersion with an example:\n",
    "\n",
    "Example:\n",
    "Consider the following dataset representing the ages of a group of people:\n",
    "\n",
    "[25, 28, 30, 29, 26, 27, 31, 30, 28, 50]\n",
    "\n",
    "Measures of Central Tendency:\n",
    "Mean: The mean is the sum of all data points divided by the number of data points.\n",
    "Mean = (25 + 28 + 30 + 29 + 26 + 27 + 31 + 30 + 28 + 50) / 10 = 29.4\n",
    "\n",
    "Median: The median is the middle value of the dataset when arranged in ascending or descending order.\n",
    "Median = 28\n",
    "\n",
    "Mode: The mode is the value that appears most frequently in the dataset.\n",
    "Mode = 28 and 30 (both occur twice)\n",
    "\n",
    "In this example, the dataset contains an outlier (50). This extreme value is significantly larger than the other values, and it affects the measures of central tendency as follows:\n",
    "\n",
    "Mean: The mean is sensitive to outliers, and the value of 50 pulls the mean towards the higher end. As a result, the mean (29.4) is larger than the median (28) and the mode (28 and 30).\n",
    "Measures of Dispersion:\n",
    "Range: The range is the difference between the maximum and minimum values in the dataset.\n",
    "Range = 50 - 25 = 25\n",
    "\n",
    "Variance and Standard Deviation: Variance measures the average of the squared differences between each data point and the mean. Standard deviation is the square root of the variance.\n",
    "Variance ≈ 60.84\n",
    "Standard Deviation ≈ √60.84 ≈ 7.79\n",
    "\n",
    "The outlier 50 contributes to the increased spread of the data, leading to a larger range, variance, and standard deviation."
   ]
  },
  {
   "cell_type": "code",
   "execution_count": null,
   "id": "4b8abf46-25b9-43af-b608-c9e962c50395",
   "metadata": {},
   "outputs": [],
   "source": []
  }
 ],
 "metadata": {
  "kernelspec": {
   "display_name": "Python 3 (ipykernel)",
   "language": "python",
   "name": "python3"
  },
  "language_info": {
   "codemirror_mode": {
    "name": "ipython",
    "version": 3
   },
   "file_extension": ".py",
   "mimetype": "text/x-python",
   "name": "python",
   "nbconvert_exporter": "python",
   "pygments_lexer": "ipython3",
   "version": "3.10.8"
  }
 },
 "nbformat": 4,
 "nbformat_minor": 5
}
